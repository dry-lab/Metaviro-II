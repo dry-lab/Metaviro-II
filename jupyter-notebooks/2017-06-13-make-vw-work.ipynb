{
 "cells": [
  {
   "cell_type": "markdown",
   "metadata": {},
   "source": [
    "---\n",
    "title: Using Machine-Learning tools to Classify aDNA Damage\n",
    "author: Emrah Kırdök, Ph.D.\n",
    "\n",
    "---"
   ]
  },
  {
   "cell_type": "markdown",
   "metadata": {},
   "source": [
    "## Introduction\n",
    "\n",
    "One of our aims in this project is to distinguis aDNA reads from the mDNA using machine-learing tools. \n",
    "\n",
    "Here I am documenting Marie Gasproux's idea to train clasifier using *Vowpal Wobbit*. Her idea is to train a classifier to classify *Viral* sequences. I would like to adapt this code to train a Vowpal wobbit classifier to distinguis aDNA reads from modern reads.\n",
    "\n",
    "As a test, I used Mycobacterium aDNA and mDNA for this purpose in *cbib* servers."
   ]
  },
  {
   "cell_type": "markdown",
   "metadata": {},
   "source": [
    "## Code\n",
    "\n",
    "The definitions:"
   ]
  },
  {
   "cell_type": "code",
   "execution_count": 42,
   "metadata": {
    "collapsed": true
   },
   "outputs": [],
   "source": [
    "from collections import defaultdict"
   ]
  },
  {
   "cell_type": "markdown",
   "metadata": {},
   "source": [
    "Here is the function for the spaced *k-mer* idea. For a non-spaced *k-mer* we should use 111. For a spaced *k-mer* we should use 101. So it basically transforms 0 to \\*. I should work on this idea."
   ]
  },
  {
   "cell_type": "code",
   "execution_count": 43,
   "metadata": {
    "collapsed": true
   },
   "outputs": [],
   "source": [
    "def space_kmer(kmer, pattern):\n",
    "    return \"\".join(letter if bit=='1'\n",
    "                   else '*'\n",
    "                   for letter, bit in zip(kmer, pattern))"
   ]
  },
  {
   "cell_type": "markdown",
   "metadata": {},
   "source": [
    "This is the function to count *k-mers* that Marie wrote. It is a straight-forward approach and similiar that I used before.\n",
    "\n",
    "She used a `ref_read_size`variable to normalize *k-mer* counts. I should understand this normalization or just omit it. Since I have a standart size of 150 in my reads, this parameter will not affect the studies.\n",
    "\n",
    "This function returns a dictionary in this format:\n",
    "\n",
    "```\n",
    "*k-mer*: *count*\n",
    "```"
   ]
  },
  {
   "cell_type": "code",
   "execution_count": 44,
   "metadata": {
    "collapsed": true
   },
   "outputs": [],
   "source": [
    "def kmerize(read, pattern, ref_read_size):\n",
    "    d = defaultdict(float)\n",
    "    lp = len(pattern)\n",
    "    max_pos = len(read)-lp+1\n",
    "    for i in range(max_pos):\n",
    "        d[space_kmer(read[i:i+lp], pattern)] += 1\n",
    "    coef = len(read)/ref_read_size\n",
    "    return {k:v*coef for k, v in d.items()}"
   ]
  },
  {
   "cell_type": "markdown",
   "metadata": {},
   "source": [
    "Lets start to use the functions. One important thing is, pattern should be a `str` to calculate the length."
   ]
  },
  {
   "cell_type": "code",
   "execution_count": 45,
   "metadata": {
    "collapsed": true
   },
   "outputs": [],
   "source": [
    "seq=\"CGACTGTCGTCAGTCAGTCAGTCAGTCAGTCAGTCAGTCATGACGTAGTCAGT\"\n",
    "length_seq=len(seq)\n",
    "pattern=str(111)"
   ]
  },
  {
   "cell_type": "markdown",
   "metadata": {},
   "source": [
    "Lets count the *k-mers*:"
   ]
  },
  {
   "cell_type": "code",
   "execution_count": 46,
   "metadata": {},
   "outputs": [],
   "source": [
    "features= kmerize(seq,pattern,length_seq)"
   ]
  },
  {
   "cell_type": "markdown",
   "metadata": {},
   "source": [
    "To feed this information to *Vowpal Wobbit*, we need to print the counts like that:\n",
    "\n",
    "category 'label | feature-1:information feature-2:information ...\n",
    "\n",
    "category: Is an integer and the algorithm uses this variable to label the information. If left empty, it means that you want to assign a label.\n",
    "\n",
    "'label: This is the human readable information\n",
    "\n",
    "This function takes a dictionary and transforms it to the desired format. But the \n",
    "\n",
    "In this function:\n",
    "\n",
    "g_label: is the human readable formay\n",
    "sk_dict: the dictionary\n",
    "g_cat: is the category label that algorithm uses to classify information"
   ]
  },
  {
   "cell_type": "code",
   "execution_count": 47,
   "metadata": {},
   "outputs": [],
   "source": [
    "def print_vw_features(g_label, sk_dict, g_cat=None):\n",
    "    if g_cat != None:\n",
    "        feats = \"%d '%d |\" % (g_cat, g_label)\n",
    "    else:\n",
    "        feats = \"'%d |\" % g_label\n",
    "    for k, v in sorted(sk_dict.items()):\n",
    "        feats += \" %s:%.2f\" % (k, v)\n",
    "    return feats + \"\\n\""
   ]
  },
  {
   "cell_type": "markdown",
   "metadata": {},
   "source": [
    "This is how we use this code"
   ]
  },
  {
   "cell_type": "code",
   "execution_count": 48,
   "metadata": {},
   "outputs": [
    {
     "data": {
      "text/plain": [
       "\"1 '1 | ACG:1.00 ACT:1.00 AGT:9.00 ATG:1.00 CAG:8.00 CAT:1.00 CGA:1.00 CGT:2.00 CTG:1.00 GAC:2.00 GTA:1.00 GTC:10.00 TAG:1.00 TCA:9.00 TCG:1.00 TGA:1.00 TGT:1.00\\n\""
      ]
     },
     "execution_count": 48,
     "metadata": {},
     "output_type": "execute_result"
    }
   ],
   "source": [
    "print_vw_features(1,features,1)"
   ]
  },
  {
   "cell_type": "markdown",
   "metadata": {},
   "source": [
    "Next steps are just making a program to pratically process all the sequnces. I derived the code from my kount.py script."
   ]
  }
 ],
 "metadata": {
  "kernelspec": {
   "display_name": "Python 3",
   "language": "python",
   "name": "python3"
  },
  "language_info": {
   "codemirror_mode": {
    "name": "ipython",
    "version": 2
   },
   "file_extension": ".py",
   "mimetype": "text/x-python",
   "name": "python",
   "nbconvert_exporter": "python",
   "pygments_lexer": "ipython2",
   "version": "2.7.10"
  }
 },
 "nbformat": 4,
 "nbformat_minor": 2
}
